{
 "cells": [
  {
   "cell_type": "markdown",
   "metadata": {},
   "source": [
    "# Higher Order Functions"
   ]
  },
  {
   "cell_type": "markdown",
   "metadata": {},
   "source": [
    "### Funções de ordem superior"
   ]
  },
  {
   "cell_type": "code",
   "execution_count": 1,
   "metadata": {},
   "outputs": [
    {
     "name": "stdout",
     "output_type": "stream",
     "text": [
      "5\n"
     ]
    }
   ],
   "source": [
    "def validar(f):\n",
    "    return f\n",
    "\n",
    "\n",
    "def soma(x, y):\n",
    "    return x + y\n",
    "\n",
    "print(validar(soma)(3,2)) # Higher Order Functions"
   ]
  },
  {
   "cell_type": "markdown",
   "metadata": {},
   "source": [
    "É uma função que recebe ou retorna uma outra função."
   ]
  },
  {
   "cell_type": "markdown",
   "metadata": {},
   "source": [
    "#### Closure"
   ]
  },
  {
   "cell_type": "markdown",
   "metadata": {},
   "source": [
    "São funções definidas no escopo de outras funções, assim tendo acesso ao contexto e varivéis dentro da função \"mãe\". Podemos associar closure a um \"filhote de canguru\" rsrs."
   ]
  },
  {
   "cell_type": "code",
   "execution_count": 10,
   "metadata": {},
   "outputs": [
    {
     "data": {
      "text/plain": [
       "<function __main__.validar.<locals>.valida()>"
      ]
     },
     "execution_count": 10,
     "metadata": {},
     "output_type": "execute_result"
    }
   ],
   "source": [
    "def validar():\n",
    "    def valida():\n",
    "        print('fui chamada')\n",
    "    return valida\n",
    "\n",
    "# validar() # retornamos uma função\n",
    "# validar()() # executamos a função"
   ]
  },
  {
   "cell_type": "markdown",
   "metadata": {},
   "source": [
    "# Decoradores"
   ]
  },
  {
   "cell_type": "code",
   "execution_count": 14,
   "metadata": {},
   "outputs": [
    {
     "ename": "ValueError",
     "evalue": "NÃO PODE SER NEGATIVO!!",
     "output_type": "error",
     "traceback": [
      "\u001b[1;31m---------------------------------------------------------------------------\u001b[0m",
      "\u001b[1;31mValueError\u001b[0m                                Traceback (most recent call last)",
      "\u001b[1;32mc:\\Users\\Rubinho\\PYTHON COURSE\\PYTHON DO ZERO AO AVANÇADO\\Seção 3 - Intermediario\\decorador - pythonando.ipynb Cell 9'\u001b[0m in \u001b[0;36m<module>\u001b[1;34m\u001b[0m\n\u001b[0;32m      <a href='vscode-notebook-cell:/c%3A/Users/Rubinho/PYTHON%20COURSE/PYTHON%20DO%20ZERO%20AO%20AVAN%C3%87ADO/Se%C3%A7%C3%A3o%203%20-%20Intermediario/decorador%20-%20pythonando.ipynb#ch0000009?line=5'>6</a>\u001b[0m \u001b[39mdef\u001b[39;00m \u001b[39msoma\u001b[39m(x, y):\n\u001b[0;32m      <a href='vscode-notebook-cell:/c%3A/Users/Rubinho/PYTHON%20COURSE/PYTHON%20DO%20ZERO%20AO%20AVAN%C3%87ADO/Se%C3%A7%C3%A3o%203%20-%20Intermediario/decorador%20-%20pythonando.ipynb#ch0000009?line=6'>7</a>\u001b[0m     \u001b[39mreturn\u001b[39;00m x \u001b[39m+\u001b[39m y\n\u001b[1;32m----> <a href='vscode-notebook-cell:/c%3A/Users/Rubinho/PYTHON%20COURSE/PYTHON%20DO%20ZERO%20AO%20AVAN%C3%87ADO/Se%C3%A7%C3%A3o%203%20-%20Intermediario/decorador%20-%20pythonando.ipynb#ch0000009?line=8'>9</a>\u001b[0m x \u001b[39m=\u001b[39m validar(soma, \u001b[39m-\u001b[39;49m\u001b[39m10\u001b[39;49m, \u001b[39m10\u001b[39;49m)\n\u001b[0;32m     <a href='vscode-notebook-cell:/c%3A/Users/Rubinho/PYTHON%20COURSE/PYTHON%20DO%20ZERO%20AO%20AVAN%C3%87ADO/Se%C3%A7%C3%A3o%203%20-%20Intermediario/decorador%20-%20pythonando.ipynb#ch0000009?line=9'>10</a>\u001b[0m \u001b[39mprint\u001b[39m(x)\n",
      "\u001b[1;32mc:\\Users\\Rubinho\\PYTHON COURSE\\PYTHON DO ZERO AO AVANÇADO\\Seção 3 - Intermediario\\decorador - pythonando.ipynb Cell 9'\u001b[0m in \u001b[0;36mvalidar\u001b[1;34m(f, x, y)\u001b[0m\n\u001b[0;32m      <a href='vscode-notebook-cell:/c%3A/Users/Rubinho/PYTHON%20COURSE/PYTHON%20DO%20ZERO%20AO%20AVAN%C3%87ADO/Se%C3%A7%C3%A3o%203%20-%20Intermediario/decorador%20-%20pythonando.ipynb#ch0000009?line=0'>1</a>\u001b[0m \u001b[39mdef\u001b[39;00m \u001b[39mvalidar\u001b[39m(f, x, y):\n\u001b[0;32m      <a href='vscode-notebook-cell:/c%3A/Users/Rubinho/PYTHON%20COURSE/PYTHON%20DO%20ZERO%20AO%20AVAN%C3%87ADO/Se%C3%A7%C3%A3o%203%20-%20Intermediario/decorador%20-%20pythonando.ipynb#ch0000009?line=1'>2</a>\u001b[0m     \u001b[39mif\u001b[39;00m x \u001b[39m<\u001b[39m \u001b[39m0\u001b[39m \u001b[39mor\u001b[39;00m y \u001b[39m<\u001b[39m \u001b[39m0\u001b[39m:\n\u001b[1;32m----> <a href='vscode-notebook-cell:/c%3A/Users/Rubinho/PYTHON%20COURSE/PYTHON%20DO%20ZERO%20AO%20AVAN%C3%87ADO/Se%C3%A7%C3%A3o%203%20-%20Intermediario/decorador%20-%20pythonando.ipynb#ch0000009?line=2'>3</a>\u001b[0m         \u001b[39mraise\u001b[39;00m \u001b[39mValueError\u001b[39;00m(\u001b[39m'\u001b[39m\u001b[39mNÃO PODE SER NEGATIVO!!\u001b[39m\u001b[39m'\u001b[39m)\n\u001b[0;32m      <a href='vscode-notebook-cell:/c%3A/Users/Rubinho/PYTHON%20COURSE/PYTHON%20DO%20ZERO%20AO%20AVAN%C3%87ADO/Se%C3%A7%C3%A3o%203%20-%20Intermediario/decorador%20-%20pythonando.ipynb#ch0000009?line=3'>4</a>\u001b[0m     \u001b[39mreturn\u001b[39;00m f(x, y)\n",
      "\u001b[1;31mValueError\u001b[0m: NÃO PODE SER NEGATIVO!!"
     ]
    }
   ],
   "source": [
    "def validar(f, x, y):\n",
    "    if x < 0 or y < 0:\n",
    "        raise ValueError('NÃO PODE SER NEGATIVO!!')\n",
    "    return f(x, y)\n",
    "\n",
    "def soma(x, y):\n",
    "    return x + y\n",
    "\n",
    "x = validar(soma, -10, 10)\n",
    "print(x)"
   ]
  }
 ],
 "metadata": {
  "interpreter": {
   "hash": "9efce205f64ad363cd9f14615485aca38ee4ef0915866e318aa83c8d0c93f6fc"
  },
  "kernelspec": {
   "display_name": "Python 3.10.0 64-bit",
   "language": "python",
   "name": "python3"
  },
  "language_info": {
   "codemirror_mode": {
    "name": "ipython",
    "version": 3
   },
   "file_extension": ".py",
   "mimetype": "text/x-python",
   "name": "python",
   "nbconvert_exporter": "python",
   "pygments_lexer": "ipython3",
   "version": "3.10.0"
  },
  "orig_nbformat": 4
 },
 "nbformat": 4,
 "nbformat_minor": 2
}
