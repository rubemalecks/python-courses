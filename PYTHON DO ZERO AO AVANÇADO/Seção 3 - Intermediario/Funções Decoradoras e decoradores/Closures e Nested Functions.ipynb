{
 "cells": [
  {
   "cell_type": "markdown",
   "metadata": {},
   "source": [
    "# DECORADORES"
   ]
  },
  {
   "cell_type": "markdown",
   "metadata": {},
   "source": [
    "https://youtu.be/5q-qz3GAj5U"
   ]
  },
  {
   "cell_type": "markdown",
   "metadata": {},
   "source": [
    "Primeiro vamos entender alguns conceitos ..."
   ]
  },
  {
   "cell_type": "markdown",
   "metadata": {},
   "source": [
    "# Nested Functions\n",
    "\n",
    "~ Funções dentro de Funções, sendo uma definição/função aninhada."
   ]
  },
  {
   "cell_type": "code",
   "execution_count": 2,
   "metadata": {},
   "outputs": [
    {
     "name": "stdout",
     "output_type": "stream",
     "text": [
      "Antes do \"oculto\"\n",
      "10\n",
      "Depois do \"oculto\"\n"
     ]
    }
   ],
   "source": [
    "def func_externa(val):\n",
    "    \"\"\" Função com outra definida internamente. \"\"\"\n",
    "    def procedimento_oculto():\n",
    "        return val\n",
    "    print('Antes do \"oculto\"')\n",
    "    print(val)\n",
    "    print('Depois do \"oculto\"')\n",
    "\n",
    "func_externa(10)"
   ]
  },
  {
   "cell_type": "markdown",
   "metadata": {},
   "source": [
    "# Closures"
   ]
  },
  {
   "cell_type": "markdown",
   "metadata": {},
   "source": [
    "Funções com o escopo estendido. Elas conseguem ter \"a visão além do alcance\"."
   ]
  },
  {
   "cell_type": "code",
   "execution_count": 1,
   "metadata": {},
   "outputs": [
    {
     "name": "stdout",
     "output_type": "stream",
     "text": [
      "85.0\n"
     ]
    }
   ],
   "source": [
    "def media_acumulada():\n",
    "    valores = []\n",
    "\n",
    "    def calcula_media(valor):\n",
    "        valores.append(valor)\n",
    "        return sum(valores)/len(valores)\n",
    "    return calcula_media\n",
    "\n",
    "media = media_acumulada()\n",
    "media(2)\n",
    "media(2)\n",
    "media(2)\n",
    "media(2)\n",
    "media(2)\n",
    "print(media(500))"
   ]
  },
  {
   "cell_type": "markdown",
   "metadata": {},
   "source": [
    "Closure é todo este escopo dentro da função principal/externa."
   ]
  },
  {
   "cell_type": "markdown",
   "metadata": {},
   "source": [
    "Variáveis dentro da closure ganham o nome de variável livre, pois qualquer coisa dentro dela tem acesso a mesma."
   ]
  },
  {
   "cell_type": "markdown",
   "metadata": {},
   "source": [
    "# # Curiosidade"
   ]
  },
  {
   "cell_type": "markdown",
   "metadata": {},
   "source": [
    "Onde isso fica armazenado?"
   ]
  },
  {
   "cell_type": "code",
   "execution_count": 5,
   "metadata": {},
   "outputs": [
    {
     "data": {
      "text/plain": [
       "('calcula_media',)"
      ]
     },
     "execution_count": 5,
     "metadata": {},
     "output_type": "execute_result"
    }
   ],
   "source": [
    "media_acumulada.__code__.co_varnames"
   ]
  },
  {
   "cell_type": "code",
   "execution_count": 6,
   "metadata": {},
   "outputs": [
    {
     "data": {
      "text/plain": [
       "('valor',)"
      ]
     },
     "execution_count": 6,
     "metadata": {},
     "output_type": "execute_result"
    }
   ],
   "source": [
    "media.__code__.co_varnames"
   ]
  },
  {
   "cell_type": "code",
   "execution_count": 7,
   "metadata": {},
   "outputs": [
    {
     "data": {
      "text/plain": [
       "(<cell at 0x000002A9A1093730: list object at 0x000002A9A113A940>,)"
      ]
     },
     "execution_count": 7,
     "metadata": {},
     "output_type": "execute_result"
    }
   ],
   "source": [
    "media.__closure__"
   ]
  },
  {
   "cell_type": "markdown",
   "metadata": {},
   "source": [
    "Apesar do escopo ser compartilhado e as variáveis livres ainda estarem no contexto, objetos imutáveis não podem ser modificados pela função interna.\n",
    "\n",
    "ex:"
   ]
  },
  {
   "cell_type": "code",
   "execution_count": 10,
   "metadata": {},
   "outputs": [
    {
     "ename": "UnboundLocalError",
     "evalue": "local variable 'cont' referenced before assignment",
     "output_type": "error",
     "traceback": [
      "\u001b[1;31m---------------------------------------------------------------------------\u001b[0m",
      "\u001b[1;31mUnboundLocalError\u001b[0m                         Traceback (most recent call last)",
      "\u001b[1;32mc:\\Users\\Rubinho\\PYTHON COURSE\\PYTHON DO ZERO AO AVANÇADO\\Seção 3 - Intermediario\\Funções Decoradoras e decoradores\\decoradores.ipynb Cell 17'\u001b[0m in \u001b[0;36m<module>\u001b[1;34m\u001b[0m\n\u001b[0;32m      <a href='vscode-notebook-cell:/c%3A/Users/Rubinho/PYTHON%20COURSE/PYTHON%20DO%20ZERO%20AO%20AVAN%C3%87ADO/Se%C3%A7%C3%A3o%203%20-%20Intermediario/Fun%C3%A7%C3%B5es%20Decoradoras%20e%20decoradores/decoradores.ipynb#ch0000019?line=5'>6</a>\u001b[0m     \u001b[39mreturn\u001b[39;00m contador\n\u001b[0;32m      <a href='vscode-notebook-cell:/c%3A/Users/Rubinho/PYTHON%20COURSE/PYTHON%20DO%20ZERO%20AO%20AVAN%C3%87ADO/Se%C3%A7%C3%A3o%203%20-%20Intermediario/Fun%C3%A7%C3%B5es%20Decoradoras%20e%20decoradores/decoradores.ipynb#ch0000019?line=7'>8</a>\u001b[0m contador \u001b[39m=\u001b[39m contador_pika()\n\u001b[1;32m----> <a href='vscode-notebook-cell:/c%3A/Users/Rubinho/PYTHON%20COURSE/PYTHON%20DO%20ZERO%20AO%20AVAN%C3%87ADO/Se%C3%A7%C3%A3o%203%20-%20Intermediario/Fun%C3%A7%C3%B5es%20Decoradoras%20e%20decoradores/decoradores.ipynb#ch0000019?line=8'>9</a>\u001b[0m contador()\n",
      "\u001b[1;32mc:\\Users\\Rubinho\\PYTHON COURSE\\PYTHON DO ZERO AO AVANÇADO\\Seção 3 - Intermediario\\Funções Decoradoras e decoradores\\decoradores.ipynb Cell 17'\u001b[0m in \u001b[0;36mcontador_pika.<locals>.contador\u001b[1;34m()\u001b[0m\n\u001b[0;32m      <a href='vscode-notebook-cell:/c%3A/Users/Rubinho/PYTHON%20COURSE/PYTHON%20DO%20ZERO%20AO%20AVAN%C3%87ADO/Se%C3%A7%C3%A3o%203%20-%20Intermediario/Fun%C3%A7%C3%B5es%20Decoradoras%20e%20decoradores/decoradores.ipynb#ch0000019?line=2'>3</a>\u001b[0m \u001b[39mdef\u001b[39;00m \u001b[39mcontador\u001b[39m():\n\u001b[1;32m----> <a href='vscode-notebook-cell:/c%3A/Users/Rubinho/PYTHON%20COURSE/PYTHON%20DO%20ZERO%20AO%20AVAN%C3%87ADO/Se%C3%A7%C3%A3o%203%20-%20Intermediario/Fun%C3%A7%C3%B5es%20Decoradoras%20e%20decoradores/decoradores.ipynb#ch0000019?line=3'>4</a>\u001b[0m     cont \u001b[39m+\u001b[39m\u001b[39m=\u001b[39m \u001b[39m1\u001b[39m\n\u001b[0;32m      <a href='vscode-notebook-cell:/c%3A/Users/Rubinho/PYTHON%20COURSE/PYTHON%20DO%20ZERO%20AO%20AVAN%C3%87ADO/Se%C3%A7%C3%A3o%203%20-%20Intermediario/Fun%C3%A7%C3%B5es%20Decoradoras%20e%20decoradores/decoradores.ipynb#ch0000019?line=4'>5</a>\u001b[0m     \u001b[39mreturn\u001b[39;00m cont\n",
      "\u001b[1;31mUnboundLocalError\u001b[0m: local variable 'cont' referenced before assignment"
     ]
    }
   ],
   "source": [
    "def contador_pika():\n",
    "    cont = 0\n",
    "    def contador():\n",
    "        cont += 1\n",
    "        return cont\n",
    "    return contador\n",
    "\n",
    "contador = contador_pika()\n",
    "contador()"
   ]
  },
  {
   "cell_type": "markdown",
   "metadata": {},
   "source": [
    "\"UnboundLocalError\" - Não existe uma referencia disto. Como se estivesse tentando redefinir o valor que não existe +."
   ]
  },
  {
   "cell_type": "code",
   "execution_count": 24,
   "metadata": {},
   "outputs": [
    {
     "data": {
      "text/plain": [
       "1"
      ]
     },
     "execution_count": 24,
     "metadata": {},
     "output_type": "execute_result"
    }
   ],
   "source": [
    "def contador_pika():\n",
    "    cont = 0\n",
    "    def contador():\n",
    "        nonlocal cont \n",
    "        cont += 1\n",
    "        return cont\n",
    "    return contador\n",
    "\n",
    "contador = contador_pika()\n",
    "contador()"
   ]
  },
  {
   "cell_type": "code",
   "execution_count": 25,
   "metadata": {},
   "outputs": [
    {
     "data": {
      "text/plain": [
       "2"
      ]
     },
     "execution_count": 25,
     "metadata": {},
     "output_type": "execute_result"
    }
   ],
   "source": [
    "contador()"
   ]
  },
  {
   "cell_type": "code",
   "execution_count": 26,
   "metadata": {},
   "outputs": [
    {
     "data": {
      "text/plain": [
       "3"
      ]
     },
     "execution_count": 26,
     "metadata": {},
     "output_type": "execute_result"
    }
   ],
   "source": [
    "contador()"
   ]
  }
 ],
 "metadata": {
  "interpreter": {
   "hash": "9efce205f64ad363cd9f14615485aca38ee4ef0915866e318aa83c8d0c93f6fc"
  },
  "kernelspec": {
   "display_name": "Python 3.10.0 64-bit",
   "language": "python",
   "name": "python3"
  },
  "language_info": {
   "codemirror_mode": {
    "name": "ipython",
    "version": 3
   },
   "file_extension": ".py",
   "mimetype": "text/x-python",
   "name": "python",
   "nbconvert_exporter": "python",
   "pygments_lexer": "ipython3",
   "version": "3.10.0"
  },
  "orig_nbformat": 4
 },
 "nbformat": 4,
 "nbformat_minor": 2
}
