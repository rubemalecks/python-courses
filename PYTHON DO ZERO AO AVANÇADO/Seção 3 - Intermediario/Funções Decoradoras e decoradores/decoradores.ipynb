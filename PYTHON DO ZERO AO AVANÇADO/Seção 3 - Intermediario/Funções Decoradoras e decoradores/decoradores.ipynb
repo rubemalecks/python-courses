{
 "cells": [
  {
   "cell_type": "markdown",
   "metadata": {},
   "source": [
    "# Criando uma função que soma inteiros"
   ]
  },
  {
   "cell_type": "code",
   "execution_count": 4,
   "metadata": {},
   "outputs": [
    {
     "name": "stdout",
     "output_type": "stream",
     "text": [
      "2\n",
      "rubem álecks\n"
     ]
    }
   ],
   "source": [
    "def soma(x, y):\n",
    "    \"\"\" Ela soma qualquer coisa. \"\"\"\n",
    "    return x + y\n",
    "\n",
    "print(soma(1, 1))\n",
    "print(soma('rubem', ' álecks'))"
   ]
  },
  {
   "cell_type": "markdown",
   "metadata": {},
   "source": [
    "Somou o número, mas também está somando strings."
   ]
  },
  {
   "cell_type": "markdown",
   "metadata": {},
   "source": [
    "Podemos resolver de certa forma, assim:"
   ]
  },
  {
   "cell_type": "code",
   "execution_count": 11,
   "metadata": {},
   "outputs": [
    {
     "name": "stdout",
     "output_type": "stream",
     "text": [
      "2\n",
      "não é um inteiro\n"
     ]
    }
   ],
   "source": [
    "def soma(x, y):\n",
    "    if all(isinstance(val, int) for val in [x, y]): # validação\n",
    "        return x + y\n",
    "    else:\n",
    "        return 'não é um inteiro'\n",
    "\n",
    "print(soma(1,1))\n",
    "print(soma('rubem', ' álecks'))"
   ]
  },
  {
   "cell_type": "markdown",
   "metadata": {},
   "source": [
    "Mas caso tenhamos que validar os valores em outros lugares do código isso ficaria extremamente cansativo."
   ]
  },
  {
   "cell_type": "markdown",
   "metadata": {},
   "source": [
    "# Exemplo com \"Logs\""
   ]
  },
  {
   "cell_type": "code",
   "execution_count": 13,
   "metadata": {},
   "outputs": [
    {
     "name": "stdout",
     "output_type": "stream",
     "text": [
      "soma args: (1, 1)\n",
      "2\n"
     ]
    }
   ],
   "source": [
    "def log(func):\n",
    "    def interna(*args):\n",
    "        print(func.__name__, f'args: {args}')\n",
    "        return func(*args)\n",
    "    return interna\n",
    "@log\n",
    "def soma(a, b):\n",
    "    return a + b\n",
    "\n",
    "print(soma(1,1))"
   ]
  },
  {
   "cell_type": "markdown",
   "metadata": {},
   "source": [
    "Outro, OTIMO EXEMPLO:\n"
   ]
  },
  {
   "cell_type": "code",
   "execution_count": null,
   "metadata": {},
   "outputs": [],
   "source": [
    "def validate_type(type):\n",
    "    def validate(func):\n",
    "        def interna(*args, **kwargs):\n",
    "            if all(isinstance(val, type) for val in args):\n",
    "                return func(*args)\n",
    "        return interna\n",
    "    return validate\n",
    "\n",
    "\n",
    "@validate_type(int)\n",
    "def soma(x, y):\n",
    "    return x + y\n",
    "\n",
    "\n",
    "print(soma(1, 1))\n"
   ]
  }
 ],
 "metadata": {
  "interpreter": {
   "hash": "9efce205f64ad363cd9f14615485aca38ee4ef0915866e318aa83c8d0c93f6fc"
  },
  "kernelspec": {
   "display_name": "Python 3.10.0 64-bit",
   "language": "python",
   "name": "python3"
  },
  "language_info": {
   "codemirror_mode": {
    "name": "ipython",
    "version": 3
   },
   "file_extension": ".py",
   "mimetype": "text/x-python",
   "name": "python",
   "nbconvert_exporter": "python",
   "pygments_lexer": "ipython3",
   "version": "3.10.0"
  },
  "orig_nbformat": 4
 },
 "nbformat": 4,
 "nbformat_minor": 2
}
