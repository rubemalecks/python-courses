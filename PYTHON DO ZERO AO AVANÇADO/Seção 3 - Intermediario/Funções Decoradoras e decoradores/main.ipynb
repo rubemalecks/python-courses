{
 "cells": [
  {
   "cell_type": "markdown",
   "metadata": {},
   "source": [
    "# # Funções Decoradoras"
   ]
  },
  {
   "cell_type": "code",
   "execution_count": 8,
   "metadata": {},
   "outputs": [
    {
     "name": "stdout",
     "output_type": "stream",
     "text": [
      "A função demorou 1.77seg\n",
      "A função demorou 1.85seg\n"
     ]
    }
   ],
   "source": [
    "import time\n",
    "\n",
    "def funcao1():\n",
    "    for i in range(100_000_000):\n",
    "        a = 2 * 7\n",
    "\n",
    "def funcao2():\n",
    "    for i in range(100_000_000):\n",
    "        a = 2 * 2 * 2 * 2 * 2 * 2 * 2 * 2\n",
    "\n",
    "start = time.time()\n",
    "funcao1()\n",
    "end = time.time()\n",
    "print(f\"A função demorou {end-start:.2f}seg\")\n",
    "\n",
    "start = time.time()\n",
    "funcao2()\n",
    "end = time.time()\n",
    "print(f\"A função demorou {end-start:.2f}seg\")\n",
    "\n"
   ]
  },
  {
   "cell_type": "markdown",
   "metadata": {},
   "source": [
    "~ Basicamente o que fiz foi calcular quanto tempo demorou para executar cada uma das 2 Funções"
   ]
  },
  {
   "cell_type": "markdown",
   "metadata": {},
   "source": [
    "## COM DECORADORES:"
   ]
  },
  {
   "cell_type": "code",
   "execution_count": 7,
   "metadata": {},
   "outputs": [
    {
     "name": "stdout",
     "output_type": "stream",
     "text": [
      "Essa função demorou 1.75 segundos\n",
      "Essa função demorou 1.88 segundos\n",
      "Essa função demorou 1.87 segundos\n"
     ]
    }
   ],
   "source": [
    "def timer(func, *args, **kwargs):\n",
    "    def modificada():\n",
    "        start = time.time()\n",
    "        func()\n",
    "        end = time.time()\n",
    "        print(f'Essa função demorou {end-start:.2f} segundos')\n",
    "    return modificada\n",
    "\n",
    "temporizada = timer(funcao1)\n",
    "temporizada()\n",
    "temporizada2 = timer(funcao2)\n",
    "temporizada2()\n",
    "\n",
    "timer(funcao1)() # Também funciona "
   ]
  },
  {
   "cell_type": "markdown",
   "metadata": {},
   "source": [
    "# SINTAXE CORRETA"
   ]
  },
  {
   "cell_type": "code",
   "execution_count": 14,
   "metadata": {},
   "outputs": [
    {
     "name": "stdout",
     "output_type": "stream",
     "text": [
      "Essa função demorou 1.64 segundos\n",
      "Essa função demorou 1.66 segundos\n"
     ]
    }
   ],
   "source": [
    "import time\n",
    "\n",
    "@timer\n",
    "def funcao1():\n",
    "    for i in range(100_000_000):\n",
    "        a = 2 * 7\n",
    "\n",
    "@timer\n",
    "def funcao2():\n",
    "    for i in range(100_000_000):\n",
    "        a = 2 * 2 * 2 * 2 * 2 * 2 * 2 * 2\n",
    "funcao1()\n",
    "funcao2()"
   ]
  }
 ],
 "metadata": {
  "interpreter": {
   "hash": "9efce205f64ad363cd9f14615485aca38ee4ef0915866e318aa83c8d0c93f6fc"
  },
  "kernelspec": {
   "display_name": "Python 3.10.0 64-bit",
   "language": "python",
   "name": "python3"
  },
  "language_info": {
   "codemirror_mode": {
    "name": "ipython",
    "version": 3
   },
   "file_extension": ".py",
   "mimetype": "text/x-python",
   "name": "python",
   "nbconvert_exporter": "python",
   "pygments_lexer": "ipython3",
   "version": "3.10.0"
  },
  "orig_nbformat": 4
 },
 "nbformat": 4,
 "nbformat_minor": 2
}
