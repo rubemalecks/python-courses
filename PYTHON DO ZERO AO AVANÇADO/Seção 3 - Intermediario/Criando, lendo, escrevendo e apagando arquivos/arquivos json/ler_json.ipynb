{
 "cells": [
  {
   "cell_type": "markdown",
   "metadata": {},
   "source": [
    "# Ler arquivos Json"
   ]
  },
  {
   "cell_type": "markdown",
   "metadata": {},
   "source": []
  },
  {
   "cell_type": "code",
   "execution_count": 16,
   "metadata": {},
   "outputs": [
    {
     "name": "stdout",
     "output_type": "stream",
     "text": [
      "{'Pessoa1': {'nome': 'Jimm', 'idade': 27}, 'Pessoa2': {'nome': 'Pam', 'idade': 29}}\n"
     ]
    }
   ],
   "source": [
    "import json\n",
    "\n",
    "with open('abc.json', 'r') as file:\n",
    "    d1_json = file.read()\n",
    "    d1_json = json.loads(d1_json)\n",
    "    print(d1_json)"
   ]
  },
  {
   "cell_type": "markdown",
   "metadata": {},
   "source": [
    " d1_json = json.loads(d1_json)\n",
    "\n",
    " Transformou o Json em um dicionario novamente."
   ]
  },
  {
   "cell_type": "code",
   "execution_count": 32,
   "metadata": {},
   "outputs": [
    {
     "name": "stdout",
     "output_type": "stream",
     "text": [
      "Pessoa1\n",
      "nome Jimm\n",
      "idade 27\n",
      "-------------\n",
      "Pessoa2\n",
      "nome Pam\n",
      "idade 29\n",
      "-------------\n"
     ]
    }
   ],
   "source": [
    "for cadastro, dados in d1_json.items():\n",
    "    print(cadastro)\n",
    "    for key, dados_pessoais in dados.items():\n",
    "        print(key, dados_pessoais)\n",
    "    print('-------------')"
   ]
  }
 ],
 "metadata": {
  "interpreter": {
   "hash": "9efce205f64ad363cd9f14615485aca38ee4ef0915866e318aa83c8d0c93f6fc"
  },
  "kernelspec": {
   "display_name": "Python 3.10.0 64-bit",
   "language": "python",
   "name": "python3"
  },
  "language_info": {
   "codemirror_mode": {
    "name": "ipython",
    "version": 3
   },
   "file_extension": ".py",
   "mimetype": "text/x-python",
   "name": "python",
   "nbconvert_exporter": "python",
   "pygments_lexer": "ipython3",
   "version": "3.10.0"
  },
  "orig_nbformat": 4
 },
 "nbformat": 4,
 "nbformat_minor": 2
}
