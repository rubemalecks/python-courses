{
 "cells": [
  {
   "cell_type": "code",
   "execution_count": 2,
   "metadata": {},
   "outputs": [
    {
     "name": "stdout",
     "output_type": "stream",
     "text": [
      "{'Pessoa1': {'nome': 'Jimm', 'idade': 27}, 'Pessoa2': {'nome': 'Pam', 'idade': 29}}\n"
     ]
    }
   ],
   "source": [
    "import json\n",
    "\n",
    "d1 = {\n",
    "    'Pessoa1': {\n",
    "        'nome': 'Jimm',\n",
    "        'idade': 27\n",
    "    },\n",
    "    'Pessoa2': {\n",
    "        'nome': 'Pam',\n",
    "        'idade': 29\n",
    "    }\n",
    "}\n"
   ]
  },
  {
   "cell_type": "markdown",
   "metadata": {},
   "source": [
    "Converter p/ json"
   ]
  },
  {
   "cell_type": "code",
   "execution_count": 4,
   "metadata": {},
   "outputs": [
    {
     "name": "stdout",
     "output_type": "stream",
     "text": [
      "{\n",
      " \"Pessoa1\": {\n",
      "  \"nome\": \"Jimm\",\n",
      "  \"idade\": 27\n",
      " },\n",
      " \"Pessoa2\": {\n",
      "  \"nome\": \"Pam\",\n",
      "  \"idade\": 29\n",
      " }\n",
      "}\n"
     ]
    }
   ],
   "source": [
    "d1_json = json.dumps(d1, indent=True)\n",
    "print(d1_json)"
   ]
  },
  {
   "cell_type": "markdown",
   "metadata": {},
   "source": [
    "Criar / Reescrever arquivo"
   ]
  },
  {
   "cell_type": "code",
   "execution_count": null,
   "metadata": {},
   "outputs": [],
   "source": [
    "with open('abc.json', 'w+') as file:\n",
    "    file.write(d1_json)\n"
   ]
  }
 ],
 "metadata": {
  "interpreter": {
   "hash": "9efce205f64ad363cd9f14615485aca38ee4ef0915866e318aa83c8d0c93f6fc"
  },
  "kernelspec": {
   "display_name": "Python 3.10.0 64-bit",
   "language": "python",
   "name": "python3"
  },
  "language_info": {
   "codemirror_mode": {
    "name": "ipython",
    "version": 3
   },
   "file_extension": ".py",
   "mimetype": "text/x-python",
   "name": "python",
   "nbconvert_exporter": "python",
   "pygments_lexer": "ipython3",
   "version": "3.10.0"
  },
  "orig_nbformat": 4
 },
 "nbformat": 4,
 "nbformat_minor": 2
}
