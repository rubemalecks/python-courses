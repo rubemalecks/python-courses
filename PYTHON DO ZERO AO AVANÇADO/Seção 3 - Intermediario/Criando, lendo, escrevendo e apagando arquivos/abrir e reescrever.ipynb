{
 "cells": [
  {
   "cell_type": "markdown",
   "metadata": {},
   "source": [
    "89. Criando, lendo, escrevendo e apagando arquivos"
   ]
  },
  {
   "cell_type": "markdown",
   "metadata": {},
   "source": [
    "Melhor maneira é usando gerenciadores de contexto:"
   ]
  },
  {
   "cell_type": "code",
   "execution_count": 9,
   "metadata": {},
   "outputs": [
    {
     "name": "stdout",
     "output_type": "stream",
     "text": [
      "Linha 1\n",
      "Linha 2\n",
      "Linha 3\n",
      "\n"
     ]
    }
   ],
   "source": [
    "with open('abc.txt', 'w+') as file:\n",
    "    file.write('Linha 1\\n')\n",
    "    file.write('Linha 2\\n')\n",
    "    file.write('Linha 3\\n')\n",
    "    \n",
    "    file.seek(0)\n",
    "    print(file.read())"
   ]
  },
  {
   "cell_type": "markdown",
   "metadata": {},
   "source": [
    "Observe que usando gerenciadores de contexto(with) não preciso fechar o arquivo ao final."
   ]
  },
  {
   "cell_type": "markdown",
   "metadata": {},
   "source": [
    "'w+' -> Serve para reescrever sobre o arquivo"
   ]
  },
  {
   "cell_type": "markdown",
   "metadata": {},
   "source": [
    "Maneira não pythonica:"
   ]
  },
  {
   "cell_type": "code",
   "execution_count": 8,
   "metadata": {},
   "outputs": [
    {
     "name": "stdout",
     "output_type": "stream",
     "text": [
      "Linha\n"
     ]
    }
   ],
   "source": [
    "try:\n",
    "    file = open('abc.txt', 'w+')\n",
    "    file.write('Linha')\n",
    "    file.seek(0)\n",
    "    print(file.read())\n",
    "finally:\n",
    "    file.close()"
   ]
  },
  {
   "cell_type": "markdown",
   "metadata": {},
   "source": [
    "Sem gerenciador de contexto precisamos fechar o arquivo no final \n",
    ">>> file.close()"
   ]
  }
 ],
 "metadata": {
  "interpreter": {
   "hash": "9efce205f64ad363cd9f14615485aca38ee4ef0915866e318aa83c8d0c93f6fc"
  },
  "kernelspec": {
   "display_name": "Python 3.10.0 64-bit",
   "language": "python",
   "name": "python3"
  },
  "language_info": {
   "codemirror_mode": {
    "name": "ipython",
    "version": 3
   },
   "file_extension": ".py",
   "mimetype": "text/x-python",
   "name": "python",
   "nbconvert_exporter": "python",
   "pygments_lexer": "ipython3",
   "version": "3.10.0"
  },
  "orig_nbformat": 4
 },
 "nbformat": 4,
 "nbformat_minor": 2
}
