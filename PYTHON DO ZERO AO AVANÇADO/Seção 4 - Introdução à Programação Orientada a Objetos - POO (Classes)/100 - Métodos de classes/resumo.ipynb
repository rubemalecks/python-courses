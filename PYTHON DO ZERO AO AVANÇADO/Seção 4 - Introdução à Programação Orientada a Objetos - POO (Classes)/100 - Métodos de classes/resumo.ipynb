{
 "cells": [
  {
   "cell_type": "code",
   "execution_count": 1,
   "metadata": {},
   "outputs": [],
   "source": [
    "class Pessoa:\n",
    "    ano_atual = 2022  # ano_atual é um atributo da classe\n",
    "\n",
    "    def __init__(self, nome, idade):\n",
    "        self.nome = nome\n",
    "        self.idade = idade\n",
    "\n",
    "    def get_ano_nascimento(self):\n",
    "        print(self.ano_atual - self.idade)\n",
    "\n",
    "    @classmethod\n",
    "    def por_nascimento(cls, nome, ano_nascimento):\n",
    "        idade = cls.ano_atual - ano_nascimento\n",
    "        return cls(nome, idade)"
   ]
  },
  {
   "cell_type": "code",
   "execution_count": 2,
   "metadata": {},
   "outputs": [
    {
     "name": "stdout",
     "output_type": "stream",
     "text": [
      "1999\n"
     ]
    }
   ],
   "source": [
    "p1 = Pessoa(\"Rubinho\", 23)\n",
    "p1.get_ano_nascimento()"
   ]
  },
  {
   "cell_type": "markdown",
   "metadata": {},
   "source": [
    "O classmethod (get_ano_nascimento()) pode ser chamado usando os argumentos passado para instancia (p1)"
   ]
  }
 ],
 "metadata": {
  "interpreter": {
   "hash": "9efce205f64ad363cd9f14615485aca38ee4ef0915866e318aa83c8d0c93f6fc"
  },
  "kernelspec": {
   "display_name": "Python 3.10.0 64-bit",
   "language": "python",
   "name": "python3"
  },
  "language_info": {
   "codemirror_mode": {
    "name": "ipython",
    "version": 3
   },
   "file_extension": ".py",
   "mimetype": "text/x-python",
   "name": "python",
   "nbconvert_exporter": "python",
   "pygments_lexer": "ipython3",
   "version": "3.10.0"
  },
  "orig_nbformat": 4
 },
 "nbformat": 4,
 "nbformat_minor": 2
}
