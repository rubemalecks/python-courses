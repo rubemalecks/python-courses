{
 "cells": [
  {
   "cell_type": "markdown",
   "metadata": {},
   "source": [
    "# MÉTODO DE CLASSE"
   ]
  },
  {
   "cell_type": "markdown",
   "metadata": {},
   "source": [
    "Métodos da instancia recebem \"self\" como 1 argumento, já métodos de classe recebem a própria classe(cls) e podem ser invocados diretamente da classe sem necessitar da instancia."
   ]
  },
  {
   "cell_type": "markdown",
   "metadata": {},
   "source": [
    "'cls' é a palavra escolhida por convenção"
   ]
  },
  {
   "cell_type": "code",
   "execution_count": 2,
   "metadata": {},
   "outputs": [],
   "source": [
    "class Impressora:\n",
    "    @classmethod\n",
    "    def imprimir_folha(cls):\n",
    "        print('folha impressa')"
   ]
  },
  {
   "cell_type": "code",
   "execution_count": 3,
   "metadata": {},
   "outputs": [
    {
     "name": "stdout",
     "output_type": "stream",
     "text": [
      "folha impressa\n"
     ]
    }
   ],
   "source": [
    "Impressora.imprimir_folha()"
   ]
  },
  {
   "cell_type": "markdown",
   "metadata": {},
   "source": [
    "Posso chamar o método diretamente da classe."
   ]
  },
  {
   "cell_type": "code",
   "execution_count": 2,
   "metadata": {},
   "outputs": [
    {
     "name": "stdout",
     "output_type": "stream",
     "text": [
      "folha impressa\n",
      "folha impressa\n",
      "folha impressa\n"
     ]
    }
   ],
   "source": [
    "class Impressora:\n",
    "    @classmethod\n",
    "    def imprimir_folha(cls):\n",
    "        print('folha impressa')\n",
    "\n",
    "    @classmethod\n",
    "    def imprimir_livro(cls, paginas):\n",
    "        for p in range(paginas):\n",
    "                cls.imprimir_folha()\n",
    "\n",
    "Impressora.imprimir_livro(3)     \n"
   ]
  }
 ],
 "metadata": {
  "interpreter": {
   "hash": "9efce205f64ad363cd9f14615485aca38ee4ef0915866e318aa83c8d0c93f6fc"
  },
  "kernelspec": {
   "display_name": "Python 3.10.0 64-bit",
   "language": "python",
   "name": "python3"
  },
  "language_info": {
   "codemirror_mode": {
    "name": "ipython",
    "version": 3
   },
   "file_extension": ".py",
   "mimetype": "text/x-python",
   "name": "python",
   "nbconvert_exporter": "python",
   "pygments_lexer": "ipython3",
   "version": "3.10.0"
  },
  "orig_nbformat": 4
 },
 "nbformat": 4,
 "nbformat_minor": 2
}
