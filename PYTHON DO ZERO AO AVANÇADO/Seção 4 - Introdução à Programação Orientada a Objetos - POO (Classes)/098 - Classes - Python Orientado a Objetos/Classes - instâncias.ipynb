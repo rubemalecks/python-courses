{
 "cells": [
  {
   "cell_type": "markdown",
   "metadata": {},
   "source": [
    "# Classes"
   ]
  },
  {
   "cell_type": "markdown",
   "metadata": {},
   "source": [
    "Variáveis de instancia (ou variáveis de classe) são chamadas de atributos da classe."
   ]
  },
  {
   "cell_type": "code",
   "execution_count": 1,
   "metadata": {},
   "outputs": [],
   "source": [
    "class ControleRemoto: # ControleRemoto é um objeto e ele tem \n",
    "    pass              # varias características ... ATRIBUTOS!!\n",
    "    '''\n",
    "    características:\n",
    "       - cor\n",
    "        - altura\n",
    "        - profundidade\n",
    "        - largura\n",
    "    '''\n"
   ]
  },
  {
   "cell_type": "markdown",
   "metadata": {},
   "source": [
    "O ControleRemoto também tem seus métodos, ele vai fazer \"coisas\" através de seus botões."
   ]
  },
  {
   "cell_type": "code",
   "execution_count": null,
   "metadata": {},
   "outputs": [],
   "source": [
    "\n",
    "\"\"\"\n",
    "    métodos do controle remoto:\n",
    "        - ligar tv\n",
    "        - passar de canal\n",
    "        - mexer no volume\n",
    "        - abrir a netflix\n",
    "        - desligar a tv\n",
    "\"\"\"\n"
   ]
  },
  {
   "cell_type": "markdown",
   "metadata": {},
   "source": [
    "# Como faz essa m3rd@ ?? "
   ]
  },
  {
   "cell_type": "code",
   "execution_count": 1,
   "metadata": {},
   "outputs": [
    {
     "name": "stdout",
     "output_type": "stream",
     "text": [
      "<__main__.ControleRemoto object at 0x000001FFCB073250> <__main__.ControleRemoto object at 0x000001FFCB167DF0>\n"
     ]
    }
   ],
   "source": [
    "class ControleRemoto:\n",
    "    def __init__(self): # __init__ = vai iniciar a classe\n",
    "        cor = 'preto'   # e dentro de init definir as características\n",
    "        altura = '10'\n",
    "        profundidade = '2cm'\n",
    "        largura = '2cm'\n",
    "\n",
    "\n",
    "controle1 = ControleRemoto()  \n",
    "controle2 = ControleRemoto()\n",
    "\n",
    "print(controle1, controle2) # retorna o local onde o objeto esta guardado\n",
    "\n",
    "# \"controle1/controle2\" são instacias da classe ControleRemoto, ou seja, é um objeto que usou a classe \"ControleRemoto\" para ser criado.\n"
   ]
  },
  {
   "cell_type": "code",
   "execution_count": 3,
   "metadata": {},
   "outputs": [
    {
     "name": "stdout",
     "output_type": "stream",
     "text": [
      "preto\n",
      "cinza\n"
     ]
    }
   ],
   "source": [
    "class ControleRemoto:\n",
    "    def __init__(self, cor, altura, profundidade, largura):\n",
    "        self.cor = cor          #obs.self\n",
    "        self.altura = altura\n",
    "        self.profundidade = profundidade\n",
    "        self.largura = largura\n",
    "\n",
    "controle1 = ControleRemoto('preto', '10cm', '2cm', '2cm')\n",
    "controle2 = ControleRemoto('cinza', '10cm', '2cm', '2cm')\n",
    "print(controle1.cor)\n",
    "print(controle2.cor)\n"
   ]
  },
  {
   "cell_type": "markdown",
   "metadata": {},
   "source": [
    "def _ _ init _ _(self, cor, altura, profundidade, largura):\n",
    "\n",
    "cor, altura, profundidade, largura são características que agora terão de ser obrigatoriamente passadas."
   ]
  },
  {
   "cell_type": "markdown",
   "metadata": {},
   "source": [
    "### obs.self:      \n",
    "self.cor / self.altura e etc se refere a atributos do objeto. Caso não use o \"self.cor\", cor vai ser uma variável \"qualquer\" assim gerando um erro de atributo."
   ]
  },
  {
   "cell_type": "markdown",
   "metadata": {},
   "source": [
    "obs.2: tendo o self.qlq_coisa, podemos acessar os atributos mesmo estando fora da classe, exemplo:"
   ]
  },
  {
   "cell_type": "code",
   "execution_count": 4,
   "metadata": {},
   "outputs": [
    {
     "name": "stdout",
     "output_type": "stream",
     "text": [
      "cinza\n"
     ]
    }
   ],
   "source": [
    "print(controle2.cor)"
   ]
  }
 ],
 "metadata": {
  "interpreter": {
   "hash": "9efce205f64ad363cd9f14615485aca38ee4ef0915866e318aa83c8d0c93f6fc"
  },
  "kernelspec": {
   "display_name": "Python 3.10.0 64-bit",
   "language": "python",
   "name": "python3"
  },
  "language_info": {
   "codemirror_mode": {
    "name": "ipython",
    "version": 3
   },
   "file_extension": ".py",
   "mimetype": "text/x-python",
   "name": "python",
   "nbconvert_exporter": "python",
   "pygments_lexer": "ipython3",
   "version": "3.10.0"
  },
  "orig_nbformat": 4
 },
 "nbformat": 4,
 "nbformat_minor": 2
}
