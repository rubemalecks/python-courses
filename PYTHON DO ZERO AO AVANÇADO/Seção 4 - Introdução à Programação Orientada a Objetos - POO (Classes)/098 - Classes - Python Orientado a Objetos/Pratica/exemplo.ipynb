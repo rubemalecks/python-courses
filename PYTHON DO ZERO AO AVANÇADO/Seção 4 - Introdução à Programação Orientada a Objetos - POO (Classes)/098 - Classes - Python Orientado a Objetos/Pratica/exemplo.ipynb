{
 "cells": [
  {
   "cell_type": "code",
   "execution_count": 1,
   "metadata": {},
   "outputs": [
    {
     "name": "stdout",
     "output_type": "stream",
     "text": [
      "basic\n",
      "Lira\n",
      "premium\n"
     ]
    }
   ],
   "source": [
    "class Cliente:\n",
    "    def __init__(self, nome, email, plano):\n",
    "        self.nome = nome\n",
    "        self.email = email\n",
    "        self.plano = plano\n",
    "        self.lista_plano = ['basic', 'premium']\n",
    "        if plano in self.lista_plano:\n",
    "            self.plano = plano\n",
    "        else:\n",
    "            raise Exception(\"Plano inválido\")\n",
    "    \n",
    "    def mudar_plano(self, novo_plano):\n",
    "        if novo_plano in self.lista_plano:\n",
    "            self.plano = novo_plano\n",
    "        else:\n",
    "            print('Plano Inválido')\n",
    "\n",
    "cliente = Cliente(\"Lira\", \"lira@gmail.com\", \"basic\")\n",
    "\n",
    "print(cliente.plano)\n",
    "print(cliente.nome)\n",
    "cliente.mudar_plano('premium')\n",
    "print(cliente.plano)"
   ]
  }
 ],
 "metadata": {
  "interpreter": {
   "hash": "9efce205f64ad363cd9f14615485aca38ee4ef0915866e318aa83c8d0c93f6fc"
  },
  "kernelspec": {
   "display_name": "Python 3.10.0 64-bit",
   "language": "python",
   "name": "python3"
  },
  "language_info": {
   "codemirror_mode": {
    "name": "ipython",
    "version": 3
   },
   "file_extension": ".py",
   "mimetype": "text/x-python",
   "name": "python",
   "nbconvert_exporter": "python",
   "pygments_lexer": "ipython3",
   "version": "3.10.0"
  },
  "orig_nbformat": 4
 },
 "nbformat": 4,
 "nbformat_minor": 2
}
