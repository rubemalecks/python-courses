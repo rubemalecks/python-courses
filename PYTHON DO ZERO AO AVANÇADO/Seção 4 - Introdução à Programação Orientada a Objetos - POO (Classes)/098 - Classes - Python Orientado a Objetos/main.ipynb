{
 "cells": [
  {
   "cell_type": "markdown",
   "metadata": {},
   "source": [
    "# Classes"
   ]
  },
  {
   "cell_type": "markdown",
   "metadata": {},
   "source": [
    "No sentido de POO, classe pode ser interpretada como molde de um objeto. obs: em python uma classe também é um objeto."
   ]
  },
  {
   "cell_type": "markdown",
   "metadata": {},
   "source": [
    "Continuando, agora a pessoa vai ter de ter um nome, idade, comportamento (comer, falar ...)."
   ]
  },
  {
   "cell_type": "markdown",
   "metadata": {},
   "source": [
    "Método \n",
    "\n",
    "~  é um função que pertence a determinada classe."
   ]
  },
  {
   "cell_type": "code",
   "execution_count": 51,
   "metadata": {},
   "outputs": [],
   "source": [
    "class Pessoa:\n",
    "    def falar(self): \n",
    "        print('Pessoa está falando...')\n"
   ]
  },
  {
   "cell_type": "markdown",
   "metadata": {},
   "source": [
    "Self se refere a instancia passada, como \"p1\" ou \"p2\". Serve para o python entender sobre qual instancia estamos falando e acessar as propriedades/métodos dela."
   ]
  },
  {
   "cell_type": "code",
   "execution_count": 52,
   "metadata": {},
   "outputs": [
    {
     "name": "stdout",
     "output_type": "stream",
     "text": [
      "Pessoa está falando...\n"
     ]
    }
   ],
   "source": [
    "p1 = Pessoa()\n",
    "p2 = Pessoa()\n",
    "\n",
    "p1.falar() # objeto.método()"
   ]
  },
  {
   "cell_type": "markdown",
   "metadata": {},
   "source": [
    "\"falar\" é um método da classe Pessoa"
   ]
  },
  {
   "cell_type": "markdown",
   "metadata": {},
   "source": [
    "-----------------------------------------------------------------"
   ]
  },
  {
   "cell_type": "markdown",
   "metadata": {},
   "source": [
    "Para que cada pessoa tivesse + dados, poderiámos fazer assim:"
   ]
  },
  {
   "cell_type": "code",
   "execution_count": 53,
   "metadata": {},
   "outputs": [],
   "source": [
    "class Pessoa:\n",
    "    def __init__(self, nome,idade, comendo=False, falando=False):\n",
    "        self.nome = nome\n",
    "        self.idade = idade\n",
    "        self.comendo = comendo\n",
    "        self.falando = falando\n"
   ]
  },
  {
   "cell_type": "markdown",
   "metadata": {},
   "source": [
    "na segunda linha \" def _ _init_ _(self, nome...):\" estamos definindo as características do próprio objeto (self)  "
   ]
  },
  {
   "cell_type": "code",
   "execution_count": 54,
   "metadata": {},
   "outputs": [],
   "source": [
    "p1 = Pessoa('Luiz', 29)\n",
    "p2 = Pessoa('João', 32)"
   ]
  },
  {
   "cell_type": "code",
   "execution_count": 55,
   "metadata": {},
   "outputs": [
    {
     "name": "stdout",
     "output_type": "stream",
     "text": [
      "Luiz 29\n"
     ]
    }
   ],
   "source": [
    "print(p1.nome, p1.idade)\n"
   ]
  },
  {
   "cell_type": "markdown",
   "metadata": {},
   "source": [
    "-------------------------------------------------------------"
   ]
  },
  {
   "cell_type": "code",
   "execution_count": 61,
   "metadata": {},
   "outputs": [],
   "source": [
    "class Pessoa:\n",
    "    def __init__(self, nome,idade, comendo=False, falando=False):\n",
    "        self.nome = nome\n",
    "        self.idade = idade\n",
    "        self.comendo = comendo\n",
    "        self.falando = falando\n",
    "        \n",
    "    def comer(self, alimento):\n",
    "            print(f'{self.nome} está comendo {alimento}.')\n",
    "            self.comendo = True\n",
    "            "
   ]
  },
  {
   "cell_type": "markdown",
   "metadata": {},
   "source": [
    "### COMER AGORA É UM MÉTODO DA CLASSE PESSOA"
   ]
  },
  {
   "cell_type": "code",
   "execution_count": 62,
   "metadata": {},
   "outputs": [
    {
     "name": "stdout",
     "output_type": "stream",
     "text": [
      "Luiz está comendo Maçã.\n"
     ]
    }
   ],
   "source": [
    "p1 = Pessoa('Luiz', 29)\n",
    "p1.comer('Maçã')"
   ]
  },
  {
   "cell_type": "markdown",
   "metadata": {},
   "source": [
    "----------------------------------------------------------------"
   ]
  },
  {
   "cell_type": "markdown",
   "metadata": {},
   "source": [
    "Caso eu não queira que Luiz \"coma maçã 2x vezes\" ..."
   ]
  },
  {
   "cell_type": "code",
   "execution_count": 65,
   "metadata": {},
   "outputs": [],
   "source": [
    "class Pessoa:\n",
    "    def __init__(self, nome,idade, comendo=False, falando=False):\n",
    "        self.nome = nome\n",
    "        self.idade = idade\n",
    "        self.comendo = comendo\n",
    "        self.falando = falando\n",
    "        \n",
    "    def comer(self, alimento):\n",
    "        if self.comendo:\n",
    "            print(f'{self.nome} já está comendo.')\n",
    "            return\n",
    "\n",
    "        print(f'{self.nome} está comendo {alimento}.')   \n",
    "        self.comendo = True"
   ]
  },
  {
   "cell_type": "code",
   "execution_count": 72,
   "metadata": {},
   "outputs": [
    {
     "name": "stdout",
     "output_type": "stream",
     "text": [
      "Luiz está comendo Maçã.\n",
      "Luiz já está comendo.\n"
     ]
    }
   ],
   "source": [
    "\n",
    "p1 = Pessoa('Luiz', 29)\n",
    "p1.comer('Maçã')\n",
    "p1.comer('Maçã')"
   ]
  },
  {
   "cell_type": "markdown",
   "metadata": {},
   "source": [
    "### parar de \"comer\""
   ]
  },
  {
   "cell_type": "code",
   "execution_count": 77,
   "metadata": {},
   "outputs": [],
   "source": [
    "class Pessoa:\n",
    "    def __init__(self, nome,idade, comendo=False, falando=False):\n",
    "        self.nome = nome\n",
    "        self.idade = idade\n",
    "        self.comendo = comendo\n",
    "        self.falando = falando\n",
    "        \n",
    "    def comer(self, alimento):\n",
    "        if self.comendo:\n",
    "            print(f'{self.nome} já está comendo.')\n",
    "            return\n",
    "\n",
    "        print(f'{self.nome} está comendo {alimento}.')   \n",
    "        self.comendo = True\n",
    "\n",
    "    def parar_comer(self):\n",
    "        if not self.comendo:\n",
    "            print(f'{self.nome} não está comendo.')\n",
    "            return\n",
    "        print(f'{self.nome} parou de comer.')\n",
    "        self.comendo = False"
   ]
  },
  {
   "cell_type": "code",
   "execution_count": 80,
   "metadata": {},
   "outputs": [
    {
     "name": "stdout",
     "output_type": "stream",
     "text": [
      "Luiz está comendo Maçã.\n",
      "Luiz já está comendo.\n",
      "Luiz parou de comer.\n",
      "Luiz não está comendo.\n",
      "Luiz está comendo Maçã.\n"
     ]
    }
   ],
   "source": [
    "p1 = Pessoa('Luiz', 29)\n",
    "p1.comer('Maçã')\n",
    "p1.comer('Maçã')\n",
    "p1.parar_comer()\n",
    "p1.parar_comer()\n",
    "p1.comer('Maçã')"
   ]
  },
  {
   "cell_type": "code",
   "execution_count": 93,
   "metadata": {},
   "outputs": [],
   "source": [
    "class Pessoa:\n",
    "    def __init__(self, nome,idade, comendo=False, falando=False):\n",
    "        self.nome = nome\n",
    "        self.idade = idade\n",
    "        self.comendo = comendo\n",
    "        self.falando = falando\n",
    "    \n",
    "    def falar(self, assunto):\n",
    "        if self.comendo:\n",
    "            print(f'{self.nome} não pode falar comendo.')\n",
    "            return\n",
    "        if self.falando:\n",
    "            print(f'{self.nome} já esta falando.')\n",
    "            return\n",
    "        \n",
    "        print(f'{self.nome} está falando sobre {assunto}.')\n",
    "        self.falando = True\n",
    "    def parar_falar(self):\n",
    "        if not self.falando:\n",
    "            print(f'{self.nome}não está falando.')\n",
    "            return\n",
    "        print(f'{self.nome} parou de falar.')\n",
    "        self.falando = False\n",
    "\n",
    "\n",
    "    def comer(self, alimento):\n",
    "        if self.comendo:\n",
    "            print(f'{self.nome} já está comendo.')\n",
    "            return\n",
    "            \n",
    "        if self.falando:\n",
    "            print(f'{self.nome} não pode comer falando.')\n",
    "            return \n",
    "\n",
    "        print(f'{self.nome} está comendo {alimento}.')   \n",
    "        self.comendo = True\n",
    "\n",
    "    def parar_comer(self):\n",
    "        if not self.comendo:\n",
    "            print(f'{self.nome} não está comendo.')\n",
    "            return\n",
    "        print(f'{self.nome} parou de comer.')\n",
    "        self.comendo = False"
   ]
  },
  {
   "cell_type": "code",
   "execution_count": 96,
   "metadata": {},
   "outputs": [
    {
     "name": "stdout",
     "output_type": "stream",
     "text": [
      "Rubinho está comendo Maçã.\n",
      "Rubinho não pode falar comendo.\n",
      "Rubinho parou de comer.\n",
      "Rubinho está falando sobre POO.\n",
      "Rubinho não pode comer falando.\n"
     ]
    }
   ],
   "source": [
    "p1 = Pessoa('Rubinho', 23)\n",
    "p1.comer('Maçã')\n",
    "p1.falar('POO')\n",
    "p1.parar_comer()\n",
    "p1.falar('POO')\n",
    "# p1.parar_falar()\n",
    "p1.comer('Goiaba')"
   ]
  },
  {
   "cell_type": "markdown",
   "metadata": {},
   "source": [
    "Os objetos são independentes um do outro."
   ]
  },
  {
   "cell_type": "code",
   "execution_count": 97,
   "metadata": {},
   "outputs": [
    {
     "name": "stdout",
     "output_type": "stream",
     "text": [
      "Rubinho está falando sobre POO.\n",
      "Álecks está comendo Coxinha.\n",
      "Rubinho não pode comer falando.\n"
     ]
    }
   ],
   "source": [
    "p1 = Pessoa('Rubinho', 23)\n",
    "p2 = Pessoa('Álecks', 42)\n",
    "\n",
    "p1.falar('POO')\n",
    "p2.comer('Coxinha')\n",
    "p1.comer('Açaí')"
   ]
  },
  {
   "cell_type": "markdown",
   "metadata": {},
   "source": [
    "---------------------------------------------------------"
   ]
  },
  {
   "cell_type": "code",
   "execution_count": 100,
   "metadata": {},
   "outputs": [],
   "source": [
    "from datetime import datetime\n",
    "class Pessoa:\n",
    "    ano_atual = int(datetime.strftime(datetime.now(), '%Y'))\n",
    "    \n",
    "    def __init__(self, nome,idade, comendo=False, falando=False):\n",
    "        self.nome = nome\n",
    "        self.idade = idade\n",
    "        self.comendo = comendo\n",
    "        self.falando = falando\n",
    "    \n",
    "    def falar(self, assunto):\n",
    "        if self.comendo:\n",
    "            print(f'{self.nome} não pode falar comendo.')\n",
    "            return\n",
    "        if self.falando:\n",
    "            print(f'{self.nome} já esta falando.')\n",
    "            return\n",
    "        \n",
    "        print(f'{self.nome} está falando sobre {assunto}.')\n",
    "        self.falando = True\n",
    "    def parar_falar(self):\n",
    "        if not self.falando:\n",
    "            print(f'{self.nome}não está falando.')\n",
    "            return\n",
    "        print(f'{self.nome} parou de falar.')\n",
    "        self.falando = False\n",
    "\n",
    "\n",
    "    def comer(self, alimento):\n",
    "        if self.comendo:\n",
    "            print(f'{self.nome} já está comendo.')\n",
    "            return\n",
    "            \n",
    "        if self.falando:\n",
    "            print(f'{self.nome} não pode comer falando.')\n",
    "            return \n",
    "\n",
    "        print(f'{self.nome} está comendo {alimento}.')   \n",
    "        self.comendo = True\n",
    "\n",
    "    def parar_comer(self):\n",
    "        if not self.comendo:\n",
    "            print(f'{self.nome} não está comendo.')\n",
    "            return\n",
    "        print(f'{self.nome} parou de comer.')\n",
    "        self.comendo = False"
   ]
  },
  {
   "cell_type": "code",
   "execution_count": 104,
   "metadata": {},
   "outputs": [
    {
     "name": "stdout",
     "output_type": "stream",
     "text": [
      "2022\n",
      "2022\n"
     ]
    }
   ],
   "source": [
    "p1 = Pessoa('Rubinho', 23)\n",
    "p2 = Pessoa('Álecks', 42)\n",
    "\n",
    "print(p1.ano_atual)\n",
    "print(p2.ano_atual)\n"
   ]
  },
  {
   "cell_type": "markdown",
   "metadata": {},
   "source": [
    "\"ano_atual\" é uma variável da classe, todos os objetos desta classe terão essa variável, inclusive a classe também:"
   ]
  },
  {
   "cell_type": "code",
   "execution_count": 105,
   "metadata": {},
   "outputs": [
    {
     "name": "stdout",
     "output_type": "stream",
     "text": [
      "2022\n"
     ]
    }
   ],
   "source": [
    "print(Pessoa.ano_atual) # Classe Pessoa"
   ]
  },
  {
   "cell_type": "code",
   "execution_count": 106,
   "metadata": {},
   "outputs": [],
   "source": [
    "from datetime import datetime\n",
    "class Pessoa:\n",
    "    ano_atual = int(datetime.strftime(datetime.now(), '%Y'))\n",
    "    \n",
    "    def __init__(self, nome,idade, comendo=False, falando=False):\n",
    "        self.nome = nome\n",
    "        self.idade = idade\n",
    "        self.comendo = comendo\n",
    "        self.falando = falando\n",
    "    \n",
    "    def falar(self, assunto):\n",
    "        if self.comendo:\n",
    "            print(f'{self.nome} não pode falar comendo.')\n",
    "            return\n",
    "        if self.falando:\n",
    "            print(f'{self.nome} já esta falando.')\n",
    "            return\n",
    "        \n",
    "        print(f'{self.nome} está falando sobre {assunto}.')\n",
    "        self.falando = True\n",
    "    def parar_falar(self):\n",
    "        if not self.falando:\n",
    "            print(f'{self.nome}não está falando.')\n",
    "            return\n",
    "        print(f'{self.nome} parou de falar.')\n",
    "        self.falando = False\n",
    "\n",
    "\n",
    "    def comer(self, alimento):\n",
    "        if self.comendo:\n",
    "            print(f'{self.nome} já está comendo.')\n",
    "            return\n",
    "            \n",
    "        if self.falando:\n",
    "            print(f'{self.nome} não pode comer falando.')\n",
    "            return \n",
    "\n",
    "        print(f'{self.nome} está comendo {alimento}.')   \n",
    "        self.comendo = True\n",
    "\n",
    "    def parar_comer(self):\n",
    "        if not self.comendo:\n",
    "            print(f'{self.nome} não está comendo.')\n",
    "            return\n",
    "        print(f'{self.nome} parou de comer.')\n",
    "        self.comendo = False\n",
    "\n",
    "    def get_ano_nascimento(self):\n",
    "        return self.ano_atual - self.idade"
   ]
  },
  {
   "cell_type": "code",
   "execution_count": 108,
   "metadata": {},
   "outputs": [
    {
     "name": "stdout",
     "output_type": "stream",
     "text": [
      "1999\n"
     ]
    }
   ],
   "source": [
    "p1 = Pessoa('Rubinho', 23)\n",
    "print(p1.get_ano_nascimento())"
   ]
  }
 ],
 "metadata": {
  "interpreter": {
   "hash": "6f0dd2ed2385fddc6fc3d4ef27340049ce7b6851a2f954c4ba2976e1b0df900d"
  },
  "kernelspec": {
   "display_name": "Python 3.10.0 ('venv': venv)",
   "language": "python",
   "name": "python3"
  },
  "language_info": {
   "codemirror_mode": {
    "name": "ipython",
    "version": 3
   },
   "file_extension": ".py",
   "mimetype": "text/x-python",
   "name": "python",
   "nbconvert_exporter": "python",
   "pygments_lexer": "ipython3",
   "version": "3.10.0"
  },
  "orig_nbformat": 4
 },
 "nbformat": 4,
 "nbformat_minor": 2
}
