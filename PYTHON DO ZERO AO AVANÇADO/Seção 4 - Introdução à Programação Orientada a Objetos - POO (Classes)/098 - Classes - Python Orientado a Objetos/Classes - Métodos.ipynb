{
 "cells": [
  {
   "cell_type": "markdown",
   "metadata": {},
   "source": [
    "# Métodos"
   ]
  },
  {
   "cell_type": "markdown",
   "metadata": {},
   "source": [
    "O que nossa \"classe\" (\"controle\") consegue fazer / as funções da nossa instancia"
   ]
  },
  {
   "cell_type": "code",
   "execution_count": 9,
   "metadata": {},
   "outputs": [],
   "source": [
    "class ControleRemoto:\n",
    "    def __init__(self, cor, altura, profundidade, largura):\n",
    "        self.cor = cor          #obs.self\n",
    "        self.altura = altura\n",
    "        self.profundidade = profundidade\n",
    "        self.largura = largura\n",
    "\n",
    "\n",
    "    def passar_canal(self, botao):\n",
    "        if botao == '+':\n",
    "            return 'Aumentar o Canal'\n",
    "        elif botao == '-':\n",
    "            return 'Diminuir o Canal'\n",
    "\n",
    "controle_remoto = ControleRemoto('preto', '10cm', '2cm', \"2cm\")"
   ]
  },
  {
   "cell_type": "markdown",
   "metadata": {},
   "source": [
    "Para usar a função \"passar_canal\" fora da classe:"
   ]
  },
  {
   "cell_type": "code",
   "execution_count": 12,
   "metadata": {},
   "outputs": [
    {
     "name": "stdout",
     "output_type": "stream",
     "text": [
      "Aumentar o Canal\n",
      "Diminuir o Canal\n"
     ]
    }
   ],
   "source": [
    "print(controle_remoto.passar_canal('+'))\n",
    "print(controle_remoto.passar_canal('-'))\n"
   ]
  },
  {
   "cell_type": "markdown",
   "metadata": {},
   "source": [
    "Caracteristicas vs Função\n",
    "\n",
    "Atributo vs Método"
   ]
  },
  {
   "cell_type": "code",
   "execution_count": 13,
   "metadata": {},
   "outputs": [
    {
     "name": "stdout",
     "output_type": "stream",
     "text": [
      "preto\n",
      "Aumentar o Canal\n"
     ]
    }
   ],
   "source": [
    "print(controle_remoto.cor)                # Caracteristica / Atributo\n",
    "print(controle_remoto.passar_canal('+') ) # Função() / Método()"
   ]
  }
 ],
 "metadata": {
  "interpreter": {
   "hash": "9efce205f64ad363cd9f14615485aca38ee4ef0915866e318aa83c8d0c93f6fc"
  },
  "kernelspec": {
   "display_name": "Python 3.10.0 64-bit",
   "language": "python",
   "name": "python3"
  },
  "language_info": {
   "codemirror_mode": {
    "name": "ipython",
    "version": 3
   },
   "file_extension": ".py",
   "mimetype": "text/x-python",
   "name": "python",
   "nbconvert_exporter": "python",
   "pygments_lexer": "ipython3",
   "version": "3.10.0"
  },
  "orig_nbformat": 4
 },
 "nbformat": 4,
 "nbformat_minor": 2
}
