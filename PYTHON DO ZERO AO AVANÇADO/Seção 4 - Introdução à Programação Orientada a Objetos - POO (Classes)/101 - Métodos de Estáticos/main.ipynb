{
 "cells": [
  {
   "cell_type": "markdown",
   "metadata": {},
   "source": [
    "# Métodos de Estáticos"
   ]
  },
  {
   "cell_type": "code",
   "execution_count": 9,
   "metadata": {},
   "outputs": [],
   "source": [
    "from random import randint\n",
    "class Pessoa:\n",
    "    ano_atual = 2022  # ano_atual é um atributo da classe\n",
    "\n",
    "    def __init__(self, nome, idade):\n",
    "        self.nome = nome\n",
    "        self.idade = idade\n",
    "\n",
    "    def get_ano_nascimento(self):\n",
    "        print(self.ano_atual - self.idade)\n",
    "\n",
    "    @classmethod\n",
    "    def por_nascimento(cls, nome, ano_nascimento):\n",
    "        idade = cls.ano_atual - ano_nascimento\n",
    "        return cls(nome, idade)\n",
    "#----------------------------------------------------------------------------------------------------------------    \n",
    "    @staticmethod\n",
    "    def gera_id():\n",
    "        rand = randint(1000, 9999)\n",
    "        return rand\n",
    "\n",
    "p1 = Pessoa('Rubem', 23)\n"
   ]
  },
  {
   "cell_type": "markdown",
   "metadata": {},
   "source": [
    "gera_id( ) -> Pode ser chamado pela classe ou pela instância"
   ]
  },
  {
   "cell_type": "code",
   "execution_count": 15,
   "metadata": {},
   "outputs": [
    {
     "name": "stdout",
     "output_type": "stream",
     "text": [
      "8461\n",
      "4953\n"
     ]
    }
   ],
   "source": [
    "print(Pessoa.gera_id())\n",
    "print(p1.gera_id())"
   ]
  },
  {
   "cell_type": "markdown",
   "metadata": {},
   "source": [
    "gera_id( ) - não tem acesso a instancia \"p1\"(pelo self), mesmo assim consegue ser invocada e gerar normalmente o id"
   ]
  }
 ],
 "metadata": {
  "interpreter": {
   "hash": "9efce205f64ad363cd9f14615485aca38ee4ef0915866e318aa83c8d0c93f6fc"
  },
  "kernelspec": {
   "display_name": "Python 3.10.0 64-bit",
   "language": "python",
   "name": "python3"
  },
  "language_info": {
   "codemirror_mode": {
    "name": "ipython",
    "version": 3
   },
   "file_extension": ".py",
   "mimetype": "text/x-python",
   "name": "python",
   "nbconvert_exporter": "python",
   "pygments_lexer": "ipython3",
   "version": "3.10.0"
  },
  "orig_nbformat": 4
 },
 "nbformat": 4,
 "nbformat_minor": 2
}
